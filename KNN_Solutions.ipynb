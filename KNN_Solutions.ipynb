{
 "cells": [
  {
   "cell_type": "markdown",
   "metadata": {},
   "source": [
    "## K Nearest Neighbors\n",
    "\n",
    "\n",
    "Neighbors-based classification is a type of *instance-based learning* or *lazy learning*: it does not attempt to construct a general internal model (using a boundary), but simply stores instances of the training data and defers the decision to generalize until a new test instance in encountered. Classification is computed from a simple majority vote of the nearest neighbors of each point: a query point is assigned the data class which has the most representatives within the nearest neighbors of the point.\n",
    "\n",
    "<img src=\"./KNN_neighbors.png\"  width=50% />\n"
   ]
  },
  {
   "cell_type": "markdown",
   "metadata": {},
   "source": [
    "### Import the libraries and dataset\n",
    "\n",
    "Before we import the data, let's load the necessary libraries:"
   ]
  },
  {
   "cell_type": "code",
   "execution_count": 8,
   "metadata": {},
   "outputs": [],
   "source": [
    "import matplotlib.pyplot as plt\n",
    "import numpy as np\n",
    "import pandas as pd\n",
    "import seaborn as sns\n",
    "import warnings\n",
    "\n",
    "from sklearn.model_selection import train_test_split\n",
    "from sklearn.neighbors import KNeighborsClassifier\n",
    "from sklearn.model_selection import GridSearchCV\n",
    "from sklearn.preprocessing import LabelEncoder, StandardScaler\n",
    "from sklearn import metrics\n",
    "\n",
    "pd.set_option('display.max_columns', 100)\n",
    "warnings.filterwarnings(\"ignore\") "
   ]
  },
  {
   "cell_type": "markdown",
   "metadata": {},
   "source": [
    "In the first notebook, we looked at the data on customer churn for a telecom operator. \n",
    "- We will reload the same dataset into a `DataFrame` named **\"df\"** using once more the function  `read_csv()` ([Check the pandas read_csv() documentation if needed](https://pandas.pydata.org/docs/reference/api/pandas.read_csv.html)). \n",
    "- To get acquainted with our data, let’s look at the first 5 entries using `head()`\n",
    "- Check the dimensionality of the data using `shape`\n",
    "- The dataset is provided in your Lab folder. "
   ]
  },
  {
   "cell_type": "code",
   "execution_count": 9,
   "metadata": {},
   "outputs": [
    {
     "name": "stdout",
     "output_type": "stream",
     "text": [
      "(3333, 20)\n"
     ]
    },
    {
     "data": {
      "text/html": [
       "<div>\n",
       "<style scoped>\n",
       "    .dataframe tbody tr th:only-of-type {\n",
       "        vertical-align: middle;\n",
       "    }\n",
       "\n",
       "    .dataframe tbody tr th {\n",
       "        vertical-align: top;\n",
       "    }\n",
       "\n",
       "    .dataframe thead th {\n",
       "        text-align: right;\n",
       "    }\n",
       "</style>\n",
       "<table border=\"1\" class=\"dataframe\">\n",
       "  <thead>\n",
       "    <tr style=\"text-align: right;\">\n",
       "      <th></th>\n",
       "      <th>State</th>\n",
       "      <th>Account length</th>\n",
       "      <th>Area code</th>\n",
       "      <th>International plan</th>\n",
       "      <th>Voice mail plan</th>\n",
       "      <th>Number vmail messages</th>\n",
       "      <th>Total day minutes</th>\n",
       "      <th>Total day calls</th>\n",
       "      <th>Total day charge</th>\n",
       "      <th>Total eve minutes</th>\n",
       "      <th>Total eve calls</th>\n",
       "      <th>Total eve charge</th>\n",
       "      <th>Total night minutes</th>\n",
       "      <th>Total night calls</th>\n",
       "      <th>Total night charge</th>\n",
       "      <th>Total intl minutes</th>\n",
       "      <th>Total intl calls</th>\n",
       "      <th>Total intl charge</th>\n",
       "      <th>Customer service calls</th>\n",
       "      <th>Churn</th>\n",
       "    </tr>\n",
       "  </thead>\n",
       "  <tbody>\n",
       "    <tr>\n",
       "      <th>0</th>\n",
       "      <td>KS</td>\n",
       "      <td>128</td>\n",
       "      <td>415</td>\n",
       "      <td>No</td>\n",
       "      <td>Yes</td>\n",
       "      <td>25</td>\n",
       "      <td>265.1</td>\n",
       "      <td>110</td>\n",
       "      <td>45.07</td>\n",
       "      <td>197.4</td>\n",
       "      <td>99</td>\n",
       "      <td>16.78</td>\n",
       "      <td>244.7</td>\n",
       "      <td>91</td>\n",
       "      <td>11.01</td>\n",
       "      <td>10.0</td>\n",
       "      <td>3</td>\n",
       "      <td>2.70</td>\n",
       "      <td>1</td>\n",
       "      <td>False</td>\n",
       "    </tr>\n",
       "    <tr>\n",
       "      <th>1</th>\n",
       "      <td>OH</td>\n",
       "      <td>107</td>\n",
       "      <td>415</td>\n",
       "      <td>No</td>\n",
       "      <td>Yes</td>\n",
       "      <td>26</td>\n",
       "      <td>161.6</td>\n",
       "      <td>123</td>\n",
       "      <td>27.47</td>\n",
       "      <td>195.5</td>\n",
       "      <td>103</td>\n",
       "      <td>16.62</td>\n",
       "      <td>254.4</td>\n",
       "      <td>103</td>\n",
       "      <td>11.45</td>\n",
       "      <td>13.7</td>\n",
       "      <td>3</td>\n",
       "      <td>3.70</td>\n",
       "      <td>1</td>\n",
       "      <td>False</td>\n",
       "    </tr>\n",
       "    <tr>\n",
       "      <th>2</th>\n",
       "      <td>NJ</td>\n",
       "      <td>137</td>\n",
       "      <td>415</td>\n",
       "      <td>No</td>\n",
       "      <td>No</td>\n",
       "      <td>0</td>\n",
       "      <td>243.4</td>\n",
       "      <td>114</td>\n",
       "      <td>41.38</td>\n",
       "      <td>121.2</td>\n",
       "      <td>110</td>\n",
       "      <td>10.30</td>\n",
       "      <td>162.6</td>\n",
       "      <td>104</td>\n",
       "      <td>7.32</td>\n",
       "      <td>12.2</td>\n",
       "      <td>5</td>\n",
       "      <td>3.29</td>\n",
       "      <td>0</td>\n",
       "      <td>False</td>\n",
       "    </tr>\n",
       "    <tr>\n",
       "      <th>3</th>\n",
       "      <td>OH</td>\n",
       "      <td>84</td>\n",
       "      <td>408</td>\n",
       "      <td>Yes</td>\n",
       "      <td>No</td>\n",
       "      <td>0</td>\n",
       "      <td>299.4</td>\n",
       "      <td>71</td>\n",
       "      <td>50.90</td>\n",
       "      <td>61.9</td>\n",
       "      <td>88</td>\n",
       "      <td>5.26</td>\n",
       "      <td>196.9</td>\n",
       "      <td>89</td>\n",
       "      <td>8.86</td>\n",
       "      <td>6.6</td>\n",
       "      <td>7</td>\n",
       "      <td>1.78</td>\n",
       "      <td>2</td>\n",
       "      <td>False</td>\n",
       "    </tr>\n",
       "    <tr>\n",
       "      <th>4</th>\n",
       "      <td>OK</td>\n",
       "      <td>75</td>\n",
       "      <td>415</td>\n",
       "      <td>Yes</td>\n",
       "      <td>No</td>\n",
       "      <td>0</td>\n",
       "      <td>166.7</td>\n",
       "      <td>113</td>\n",
       "      <td>28.34</td>\n",
       "      <td>148.3</td>\n",
       "      <td>122</td>\n",
       "      <td>12.61</td>\n",
       "      <td>186.9</td>\n",
       "      <td>121</td>\n",
       "      <td>8.41</td>\n",
       "      <td>10.1</td>\n",
       "      <td>3</td>\n",
       "      <td>2.73</td>\n",
       "      <td>3</td>\n",
       "      <td>False</td>\n",
       "    </tr>\n",
       "  </tbody>\n",
       "</table>\n",
       "</div>"
      ],
      "text/plain": [
       "  State  Account length  Area code International plan Voice mail plan  \\\n",
       "0    KS             128        415                 No             Yes   \n",
       "1    OH             107        415                 No             Yes   \n",
       "2    NJ             137        415                 No              No   \n",
       "3    OH              84        408                Yes              No   \n",
       "4    OK              75        415                Yes              No   \n",
       "\n",
       "   Number vmail messages  Total day minutes  Total day calls  \\\n",
       "0                     25              265.1              110   \n",
       "1                     26              161.6              123   \n",
       "2                      0              243.4              114   \n",
       "3                      0              299.4               71   \n",
       "4                      0              166.7              113   \n",
       "\n",
       "   Total day charge  Total eve minutes  Total eve calls  Total eve charge  \\\n",
       "0             45.07              197.4               99             16.78   \n",
       "1             27.47              195.5              103             16.62   \n",
       "2             41.38              121.2              110             10.30   \n",
       "3             50.90               61.9               88              5.26   \n",
       "4             28.34              148.3              122             12.61   \n",
       "\n",
       "   Total night minutes  Total night calls  Total night charge  \\\n",
       "0                244.7                 91               11.01   \n",
       "1                254.4                103               11.45   \n",
       "2                162.6                104                7.32   \n",
       "3                196.9                 89                8.86   \n",
       "4                186.9                121                8.41   \n",
       "\n",
       "   Total intl minutes  Total intl calls  Total intl charge  \\\n",
       "0                10.0                 3               2.70   \n",
       "1                13.7                 3               3.70   \n",
       "2                12.2                 5               3.29   \n",
       "3                 6.6                 7               1.78   \n",
       "4                10.1                 3               2.73   \n",
       "\n",
       "   Customer service calls  Churn  \n",
       "0                       1  False  \n",
       "1                       1  False  \n",
       "2                       0  False  \n",
       "3                       2  False  \n",
       "4                       3  False  "
      ]
     },
     "execution_count": 9,
     "metadata": {},
     "output_type": "execute_result"
    }
   ],
   "source": [
    "# Read the data from the telecom_churn.csv file (found in the Lab folder) using the \n",
    "# pd.read_csv() function from pandas into a variable named \"df\" \n",
    "# Print the dimensionality (shape) of the df DataFrame\n",
    "# Show the first 5 rows of df using the function head()\n",
    "\n",
    "df = pd.read_csv(\"./telecom_churn.csv\")\n",
    "print(df.shape)\n",
    "df.head()"
   ]
  },
  {
   "cell_type": "markdown",
   "metadata": {},
   "source": [
    "Can you find the target variable we are trying to predict? \n",
    "\n",
    "### Split to input variables and class vector \n",
    "\n",
    "KNN follows a similar workflow to other supervised models and is one of the easier models to use. We first start by setting the `X` matrix (input features) and `y` vector (class target):"
   ]
  },
  {
   "cell_type": "code",
   "execution_count": 10,
   "metadata": {},
   "outputs": [
    {
     "name": "stdout",
     "output_type": "stream",
     "text": [
      "X dimensions:  (3333, 19)\n",
      "y dimensions:  (3333,)\n"
     ]
    }
   ],
   "source": [
    "# Common step across all Supervised Machine Learning models in Python\n",
    "\n",
    "# Store the feature data into a new variable named \"X\" - Extract all columns \n",
    "# **except** from the label column using either indexing (.loc / .iloc) \n",
    "# or df.drop() with axis=1\n",
    "\n",
    "X = df.drop('Churn', axis=1)\n",
    "\n",
    "# Store the target data (label/class column) into a new variable named \"y\"\n",
    "# Extract only the label (class) column\n",
    "\n",
    "y = df['Churn']\n",
    "\n",
    "\n",
    "# Print the dimensions (using \"shape\") for both X and y \n",
    "print (\"X dimensions: \", X.shape)\n",
    "print (\"y dimensions: \", y.shape)"
   ]
  },
  {
   "cell_type": "markdown",
   "metadata": {},
   "source": [
    "Just for ease throughout today's notebook activity, let's work only with the numerical features: "
   ]
  },
  {
   "cell_type": "code",
   "execution_count": 11,
   "metadata": {},
   "outputs": [],
   "source": [
    "numerical_features = list(set(df.columns)- set(\n",
    "        [\n",
    "            \"State\",\n",
    "            \"International plan\",\n",
    "            \"Voice mail plan\",\n",
    "            \"Area code\",\n",
    "            \"Churn\",\n",
    "            \"Customer service calls\",\n",
    "        ]\n",
    "    )\n",
    ")\n",
    "\n",
    "X = X[numerical_features]"
   ]
  },
  {
   "cell_type": "markdown",
   "metadata": {},
   "source": [
    "### Investigate the class frequencies\n",
    "\n",
    "An important aspect to understand before applying any classification algorithm is how the output labels are distributed. Are they evenly distributed or not? Imbalances in distribution of labels can often lead to poor classification results for the minority class even if the classification results for the majority class are very good.\n",
    "\n",
    "#### 1. Tabular format - frequency table"
   ]
  },
  {
   "cell_type": "code",
   "execution_count": 12,
   "metadata": {},
   "outputs": [
    {
     "data": {
      "text/plain": [
       "False    2850\n",
       "True      483\n",
       "Name: Churn, dtype: int64"
      ]
     },
     "execution_count": 12,
     "metadata": {},
     "output_type": "execute_result"
    }
   ],
   "source": [
    "# Use the function value_counts() on the y variable \n",
    "# in order to check the distribution of the binary class \n",
    "\n",
    "y.value_counts()"
   ]
  },
  {
   "cell_type": "markdown",
   "metadata": {},
   "source": [
    "By default, the entries in the output are sorted from the most to the least frequently-occurring values.\n",
    "\n",
    "- What do you observe?? \n",
    "\n",
    "In our case, the data are **not balanced**; that is, our two target classes, churned and non-churned customers, are not represented equally in the dataset. As we will see in the following section, this fact may imply some restrictions on measuring the classification performance."
   ]
  },
  {
   "cell_type": "markdown",
   "metadata": {},
   "source": [
    "#### 2. Visualization\n",
    "\n",
    "The bar plot is a graphical representation of the frequency table. The easiest way to create it is to use the `seaborn`'s function [`countplot()`](https://seaborn.pydata.org/generated/seaborn.countplot.html). There is another function in `seaborn` that is somewhat confusingly called [`barplot()`](https://seaborn.pydata.org/generated/seaborn.barplot.html) and is mostly used for representation of some basic statistics of a numerical variable grouped by a categorical feature. Let's plot the distributions for categorical variables:"
   ]
  },
  {
   "cell_type": "code",
   "execution_count": 13,
   "metadata": {},
   "outputs": [
    {
     "data": {
      "image/png": "[encoded data removed]",
      "text/plain": [
       "<Figure size 640x480 with 1 Axes>"
      ]
     },
     "metadata": {},
     "output_type": "display_data"
    }
   ],
   "source": [
    "# Use the sns.countplot() function from seaborn to plot \n",
    "# the feature \"Churn\" (argument x=\"Churn\") from df (data=df)\n",
    "\n",
    "sns.countplot(x=\"Churn\", data=df);"
   ]
  },
  {
   "cell_type": "markdown",
   "metadata": {},
   "source": [
    "The chart above vividly illustrates the **imbalance** in our target variable. "
   ]
  },
  {
   "cell_type": "markdown",
   "metadata": {},
   "source": [
    "### Mapping (encoding) the categorical variable"
   ]
  },
  {
   "cell_type": "markdown",
   "metadata": {},
   "source": [
    "In order for the class variable to be in machine-readable form and ready to be used by ML models, it needs to be encoded in a numerical format. `LabelEncoder` from `sklearn` can be used to encode target labels with value between `0` and `n_classes-1`. \n",
    "\n",
    "**This transformer should be used to encode target values, i.e. y, and not the input X** (in which case, we can use One Hot Encoding or other ways of encoding). Read more about [LabelEncoder](https://scikit-learn.org/stable/modules/generated/sklearn.preprocessing.LabelEncoder.html) and [Transforming the prediction variable(y)](https://scikit-learn.org/stable/modules/preprocessing_targets.html#preprocessing-targets)"
   ]
  },
  {
   "cell_type": "code",
   "execution_count": 14,
   "metadata": {},
   "outputs": [],
   "source": [
    "# Convert the categorical values into numbers using the label encoder from sklearn\n",
    "# from True / False to integers 1 and 0.\n",
    "\n",
    "# Initialise a LabelEncoder object\n",
    "le = LabelEncoder()\n",
    "\n",
    "# Fit label encoder, return encoded labels and assign back to the class column of y\n",
    "# The fit_transform() function takes a categorical column and converts/maps it to numerical values.\n",
    "y = le.fit_transform(y)"
   ]
  },
  {
   "cell_type": "code",
   "execution_count": 15,
   "metadata": {},
   "outputs": [
    {
     "name": "stdout",
     "output_type": "stream",
     "text": [
      "[False  True]\n"
     ]
    }
   ],
   "source": [
    "print(le.classes_)"
   ]
  },
  {
   "cell_type": "code",
   "execution_count": 16,
   "metadata": {},
   "outputs": [
    {
     "name": "stdout",
     "output_type": "stream",
     "text": [
      "[False False False ... False False False]\n"
     ]
    }
   ],
   "source": [
    "print(le.inverse_transform(y))"
   ]
  },
  {
   "cell_type": "code",
   "execution_count": 17,
   "metadata": {},
   "outputs": [
    {
     "data": {
      "text/plain": [
       "0    2850\n",
       "1     483\n",
       "dtype: int64"
      ]
     },
     "execution_count": 17,
     "metadata": {},
     "output_type": "execute_result"
    }
   ],
   "source": [
    "pd.DataFrame(y).value_counts()"
   ]
  },
  {
   "cell_type": "markdown",
   "metadata": {},
   "source": [
    "## Supervised Learning - Classification\n",
    "\n",
    "For every classification model built with scikit-learn, we will follow four main steps:\n",
    "\n",
    "1. Building the classification model (using either default, pre-defined or optimized parameters)\n",
    "2. Training the model\n",
    "3. Testing the model\n",
    "4. Performance evaluation using various metrics.\n",
    "\n",
    "### Train-Test Split\n",
    "\n",
    "Training and testing a classification model on the same dataset is a methodological mistake: a model that would just repeat the labels of the samples that it has just seen would have a perfect score but would fail to predict anything useful on yet-unseen data (poor generalisation). To use different datasets for training and testing, we need to split our dataset into two disjoint sets: train and test (Holdout method).\n",
    "\n",
    "Use `sklearn`’s `train_test_split()` function to randomly split the data into train and test sets (visit the [train_test_split documentation](https://scikit-learn.org/stable/modules/generated/sklearn.model_selection.train_test_split.html) and the  [model cross-validation documentation](https://scikit-learn.org/stable/modules/cross_validation.html#cross-validation)). Typically, 20% test size seems reasonable enough for checking the performance of models.\n",
    "\n",
    "**Note: it’s good practice to split the train and test sets before doing any feature engineering and/or scaling to avoid data leakage!!**\n"
   ]
  },
  {
   "cell_type": "code",
   "execution_count": 18,
   "metadata": {},
   "outputs": [
    {
     "name": "stdout",
     "output_type": "stream",
     "text": [
      "Shape of x_train and y_train:  (2666, 14) (2666,)\n",
      "Shape of x_test and y_test:  (667, 14) (667,)\n"
     ]
    }
   ],
   "source": [
    "# Use the train_test_split() function from sklearn and pass the following arguments: \n",
    "# (1) the X matrix (2) the y vector (3) test_size=0.2 \n",
    "# (4) stratify=y (5) random_state=1 (for result reproducibility)\n",
    "# Store the results into the new variables X_train, X_test, y_train, y_test (simultaneously)\n",
    "# Note: when working with imbalances, it is important to stratify y when doing a train_test_split()\n",
    "\n",
    "\n",
    "X_train, X_test, y_train, y_test = train_test_split(X, y, test_size=0.20, stratify=y, random_state=1)\n",
    "\n",
    "# Print the results of X_train, X_test, y_train, y_test \n",
    "# Do the X and y variables for train and test respectively match? \n",
    "\n",
    "print('Shape of x_train and y_train: ', X_train.shape, y_train.shape)\n",
    "print('Shape of x_test and y_test: ',   X_test.shape,  y_test.shape)"
   ]
  },
  {
   "cell_type": "markdown",
   "metadata": {},
   "source": [
    "### Scaling \n",
    "\n",
    "- What do you observe when visualizing the following plot? "
   ]
  },
  {
   "cell_type": "code",
   "execution_count": 19,
   "metadata": {},
   "outputs": [
    {
     "data": {
      "image/png": "[encoded data removed]",
      "text/plain": [
       "<Figure size 1800x1000 with 1 Axes>"
      ]
     },
     "metadata": {},
     "output_type": "display_data"
    }
   ],
   "source": [
    "plt.figure(figsize=(18,10))\n",
    "ax = sns.boxplot(data=X_train)\n",
    "ax.set_xticklabels(ax.get_xticklabels(), rotation=30)\n",
    "plt.show();"
   ]
  },
  {
   "cell_type": "markdown",
   "metadata": {},
   "source": [
    "Prior to feeding our data to any other supervised or unsupervised learning technique, we need to **scale** our data. For this, we will subtract the mean from each variable and divide it by its standard deviation. All of this can be done with `StandardScaler`.\n",
    "\n",
    "**NOTE: We should only fit the scaler on the train set and use it to transform the test set to avoid data leakage.** "
   ]
  },
  {
   "cell_type": "code",
   "execution_count": 20,
   "metadata": {},
   "outputs": [],
   "source": [
    "# Instantiate the StandardScaler() from sklearn \n",
    "# Store into a variable named \"scaler\" \n",
    "\n",
    "scaler = StandardScaler()  \n",
    "\n",
    "# Fit the scaler on the X_train data - Use the scaler.fit_transform() on the X_train set \n",
    "# Assign the result back to the variable X_train \n",
    "\n",
    "X_train = scaler.fit_transform(X_train)\n",
    "\n",
    "# Transform (do not fit!) the test dataset using the (fitted) scaler - \n",
    "# Use the scaler.transform() on the X_test\n",
    "# Assign the result back to the variable X_test\n",
    "\n",
    "X_test  = scaler.transform(X_test)"
   ]
  },
  {
   "cell_type": "code",
   "execution_count": 21,
   "metadata": {},
   "outputs": [
    {
     "data": {
      "image/png": "[encoded data removed]",
      "text/plain": [
       "<Figure size 1800x1000 with 1 Axes>"
      ]
     },
     "metadata": {},
     "output_type": "display_data"
    }
   ],
   "source": [
    "# What do you observe when running the code below? \n",
    "\n",
    "plt.figure(figsize=(18,10))\n",
    "ax = sns.boxplot(data= X_train)\n",
    "ax.set_xticklabels(ax.get_xticklabels(), rotation=30)\n",
    "plt.show();"
   ]
  },
  {
   "cell_type": "markdown",
   "metadata": {},
   "source": [
    "### Train, optimise and test a KNN algorithm with scikit-learn\n",
    "\n",
    "`scikit-learn` implements two different nearest neighbors classifiers: \n",
    "- `KNeighborsClassifier` implements learning based on the nearest neighbors of each query point, where is an integer value specified by the user. \n",
    "- `RadiusNeighborsClassifier` implements learning based on the number of neighbors within a fixed radius of each training point, where is a floating-point value specified by the user. \n",
    "The k-neighbors classification in `KNeighborsClassifier` is the most commonly used technique.\n",
    "\n",
    "The `KNeighborsClassifier` object allows you to set the value of K using the `n_neighbors` parameter (http://scikit-learn.org/stable/modules/generated/sklearn.neighbors.KNeighborsClassifier.html). \n",
    "\n",
    "Reminder: for every classification model built with `scikit-learn`, we will follow four main steps: \n",
    "- 1) Building the classification model (using either default, pre-defined or optimised parameters), \n",
    "- 2) Training the model, \n",
    "- 3) Testing the model, and \n",
    "- 4) Performance evaluation using various metrics.\n",
    "\n"
   ]
  },
  {
   "cell_type": "code",
   "execution_count": 22,
   "metadata": {},
   "outputs": [
    {
     "name": "stdout",
     "output_type": "stream",
     "text": [
      "Test set accuracy:  0.8605697151424287\n"
     ]
    }
   ],
   "source": [
    "# Step 1 - Instantiate the KNeighborsClassifier() classifier using the default parameters \n",
    "# default parameters: do not pass any parameter values in KNeighborsClassifier() \n",
    "# Assign the result into a new variable named \"knn\"\n",
    "\n",
    "knn = KNeighborsClassifier()\n",
    "\n",
    "# Step 2 - Fit the knn model to the training set (use knn.fit())\n",
    "# Pass as arguments the train matrix X_train and the class vec y_train \n",
    "# No need to assign it into a new variable\n",
    "\n",
    "knn.fit(X_train, y_train)\n",
    "\n",
    "# Step 3 - Predict the test data using the knn model (use knn.predict())\n",
    "# Pass as argument only the test matrix X_test\n",
    "# Save the prediction output into a new variable \"y_pred\"\n",
    "\n",
    "y_pred = knn.predict(X_test)\n",
    "\n",
    "# Step 4 - Print the final overall accuracy for the test set using metrics.accuracy_score()\n",
    "# Pass as parameters the actual values from y_test and the predicted values from y_pred\n",
    "\n",
    "print('Test set accuracy: ', metrics.accuracy_score(y_test, y_pred))"
   ]
  },
  {
   "cell_type": "code",
   "execution_count": 23,
   "metadata": {},
   "outputs": [
    {
     "name": "stdout",
     "output_type": "stream",
     "text": [
      "[[559  11]\n",
      " [ 82  15]]\n"
     ]
    }
   ],
   "source": [
    "# Print the confusion_matrix for the test set using metrics.confusion_matrix()\n",
    "# Pass as parameters the actual values from y_test and the predicted values from y_pred\n",
    "\n",
    "print(metrics.confusion_matrix(y_test, y_pred))"
   ]
  },
  {
   "cell_type": "code",
   "execution_count": 24,
   "metadata": {},
   "outputs": [
    {
     "name": "stdout",
     "output_type": "stream",
     "text": [
      "              precision    recall  f1-score   support\n",
      "\n",
      "           0       0.87      0.98      0.92       570\n",
      "           1       0.58      0.15      0.24        97\n",
      "\n",
      "    accuracy                           0.86       667\n",
      "   macro avg       0.72      0.57      0.58       667\n",
      "weighted avg       0.83      0.86      0.82       667\n",
      "\n"
     ]
    }
   ],
   "source": [
    "# Print the classification_report for the test set using metrics.classification_report()\n",
    "# Pass as parameters the actual values from y_test and the predicted values from y_pred\n",
    "\n",
    "print(metrics.classification_report(y_test, y_pred))"
   ]
  },
  {
   "cell_type": "markdown",
   "metadata": {},
   "source": [
    "### Hyperparameter tuning\n",
    "\n",
    "#### GridSearchCV \n",
    "\n",
    "All classification models have a set of parameters that need to be optimised (tuned). Grid search is a process that searches exhaustively through a manually specified subset of the hyperparameter space. `GridSearchCV` ([link to sklearn GridSearchCV](https://scikit-learn.org/stable/modules/generated/sklearn.model_selection.GridSearchCV.html)) implements the most obvious way of finding an optimal value for anything — it simply tries all the possible values (that you pass) one at a time and returns which one yielded the best model results, based on the scoring that you want, such as accuracy on the test set.\n",
    "\n",
    "Using `GridSearchCV` is also very simple, with a few customizable parameters. Here’s a breakdown of them:\n",
    "\n",
    "1. `estimator`: the model you are using. \n",
    "2. `params_grid`: the dictionary object that holds the hyperparameters of the model you want to test.\n",
    "3. **`scoring`: evaluation metric** \n",
    "<br>(See the [various available scoring options](https://scikit-learn.org/stable/modules/model_evaluation.html#scoring-parameter) or how to [define your scoring strategy](https://scikit-learn.org/stable/modules/model_evaluation.html#scoring))\n",
    "4. `cv`: number of cross-validation for each set of hyperparameters\n",
    "5. `verbose`: The higher, the more messages are going to be printed.\n",
    "6. `n_jobs`: Number of jobs to run in parallel. \n",
    "7. `pre_dispatch`: controls the number of jobs that can be done in parallel (to avoid memory issues)\n",
    "8. `iid`: assumes data is identically independently distributed. Default is False.\n",
    "9. `refit`: once best params are found, refit the estimator\n",
    "10. `error_score`: value to assign to the score if an error happens when fitting the estimator\n",
    "11. `return_train_score`: include train scores in `cv_results_`\n",
    "\n",
    "\n",
    "#### KNN hyperparameter options: \n",
    "\n",
    "- The optimal choice for the value *K* is highly data-dependent: in general a larger *K* suppresses the effects of noise, but makes the classification boundaries less distinct. Rather than trying one-by-one predefined values of *K*, we can automate this process. The scikit-learn library provides the grid search function `GridSearchCV` ([link to sklearn GridSearchCV](https://scikit-learn.org/stable/modules/generated/sklearn.model_selection.GridSearchCV.html)), which allows to exhaustively search for the optimum combination of parameters by evaluating models trained with a particular algorithm with all provided parameter combinations. Further details and examples on grid search with scikit-learn can be found at [\"Tuning the hyper-parameters of an estimator\"](http://scikit-learn.org/stable/modules/grid_search.html). \n",
    "\n",
    "- The basic nearest neighbors classification uses *uniform* weights: that is, the value assigned to a query point is computed from a simple majority vote of the nearest neighbors. Under some circumstances, it is better to weight the neighbors such that nearer neighbors contribute more to the fit. This can be accomplished through the `weights` keyword. The default value, `weights = 'uniform'`, assigns uniform weights to each neighbor. `weights = 'distance'` assigns weights proportional to **the inverse of the distance** from the query point. Alternatively, a user-defined function of the distance can be supplied to compute the weights.\n",
    "\n",
    "- `metric` which refers to how the distance of neighboring points is chosen from the unknown point. Because modeling is generally done in more than 3 dimensions, this can be difficult to visualize."
   ]
  },
  {
   "cell_type": "code",
   "execution_count": 25,
   "metadata": {},
   "outputs": [
    {
     "data": {
      "text/plain": [
       "{'n_neighbors': array([ 1,  3,  5,  7,  9, 11, 13, 15, 17, 19, 21, 23, 25, 27, 29, 31, 33,\n",
       "        35, 37, 39, 41, 43, 45, 47, 49, 51, 53, 55, 57, 59, 61, 63, 65, 67,\n",
       "        69, 71, 73, 75, 77, 79, 81, 83, 85, 87, 89, 91, 93, 95, 97, 99]),\n",
       " 'weights': ['uniform', 'distance'],\n",
       " 'metric': ['minkowski', 'euclidean', 'manhattan']}"
      ]
     },
     "execution_count": 25,
     "metadata": {},
     "output_type": "execute_result"
    }
   ],
   "source": [
    "# Create the dictionary of model hyperparameters\n",
    "n_neighbors = np.arange(1, 101, 2)  \n",
    "weights     = ['uniform', 'distance']\n",
    "metric      = ['minkowski','euclidean','manhattan']\n",
    "\n",
    "# Convert to dictionary\n",
    "knn_param_grid = dict(n_neighbors = n_neighbors, weights = weights, metric = metric)\n",
    "knn_param_grid"
   ]
  },
  {
   "cell_type": "markdown",
   "metadata": {},
   "source": [
    "Use the `GridSearchCV` function with the validation technique of your choice (in this example, for instance, 10-fold cross-validation can been applied) to search for the optimal hyperparameters of KNN:"
   ]
  },
  {
   "cell_type": "code",
   "execution_count": 26,
   "metadata": {
    "scrolled": false
   },
   "outputs": [
    {
     "name": "stdout",
     "output_type": "stream",
     "text": [
      "Best parameters: n_neighbors= 9\n",
      "Best parameters: weights = distance\n",
      "Best parameters: metric = manhattan\n"
     ]
    }
   ],
   "source": [
    "# Grid search with 10-fold cross-validation using a dictionary of parameters\n",
    "# Optimise and build the model with GridSearchCV\n",
    "gridCV = GridSearchCV(KNeighborsClassifier(), knn_param_grid, cv=10)\n",
    "gridCV.fit(X_train, y_train) \n",
    "\n",
    "# Report the optimal parameters\n",
    "bestNeighbors = gridCV.best_params_['n_neighbors']\n",
    "bestWeight = gridCV.best_params_['weights']\n",
    "bestMetric = gridCV.best_params_['metric']\n",
    "\n",
    "print(\"Best parameters: n_neighbors=\", bestNeighbors)\n",
    "print(\"Best parameters: weights =\", bestWeight)\n",
    "print(\"Best parameters: metric =\", bestMetric)"
   ]
  },
  {
   "cell_type": "markdown",
   "metadata": {},
   "source": [
    "Some useful functions: "
   ]
  },
  {
   "cell_type": "code",
   "execution_count": 27,
   "metadata": {},
   "outputs": [
    {
     "name": "stdout",
     "output_type": "stream",
     "text": [
      "0.8844738250119681\n",
      "{'metric': 'manhattan', 'n_neighbors': 9, 'weights': 'distance'}\n",
      "KNeighborsClassifier(metric='manhattan', n_neighbors=9, weights='distance')\n"
     ]
    }
   ],
   "source": [
    "print(gridCV.best_score_)\n",
    "print(gridCV.best_params_)\n",
    "print(gridCV.best_estimator_)"
   ]
  },
  {
   "cell_type": "code",
   "execution_count": 28,
   "metadata": {},
   "outputs": [
    {
     "data": {
      "text/html": [
       "<div>\n",
       "<style scoped>\n",
       "    .dataframe tbody tr th:only-of-type {\n",
       "        vertical-align: middle;\n",
       "    }\n",
       "\n",
       "    .dataframe tbody tr th {\n",
       "        vertical-align: top;\n",
       "    }\n",
       "\n",
       "    .dataframe thead th {\n",
       "        text-align: right;\n",
       "    }\n",
       "</style>\n",
       "<table border=\"1\" class=\"dataframe\">\n",
       "  <thead>\n",
       "    <tr style=\"text-align: right;\">\n",
       "      <th></th>\n",
       "      <th>mean_test_score</th>\n",
       "      <th>params</th>\n",
       "    </tr>\n",
       "  </thead>\n",
       "  <tbody>\n",
       "    <tr>\n",
       "      <th>0</th>\n",
       "      <td>0.816196</td>\n",
       "      <td>{'metric': 'minkowski', 'n_neighbors': 1, 'wei...</td>\n",
       "    </tr>\n",
       "    <tr>\n",
       "      <th>1</th>\n",
       "      <td>0.816196</td>\n",
       "      <td>{'metric': 'minkowski', 'n_neighbors': 1, 'wei...</td>\n",
       "    </tr>\n",
       "    <tr>\n",
       "      <th>2</th>\n",
       "      <td>0.867590</td>\n",
       "      <td>{'metric': 'minkowski', 'n_neighbors': 3, 'wei...</td>\n",
       "    </tr>\n",
       "    <tr>\n",
       "      <th>3</th>\n",
       "      <td>0.866088</td>\n",
       "      <td>{'metric': 'minkowski', 'n_neighbors': 3, 'wei...</td>\n",
       "    </tr>\n",
       "    <tr>\n",
       "      <th>4</th>\n",
       "      <td>0.876596</td>\n",
       "      <td>{'metric': 'minkowski', 'n_neighbors': 5, 'wei...</td>\n",
       "    </tr>\n",
       "    <tr>\n",
       "      <th>...</th>\n",
       "      <td>...</td>\n",
       "      <td>...</td>\n",
       "    </tr>\n",
       "    <tr>\n",
       "      <th>295</th>\n",
       "      <td>0.861967</td>\n",
       "      <td>{'metric': 'manhattan', 'n_neighbors': 95, 'we...</td>\n",
       "    </tr>\n",
       "    <tr>\n",
       "      <th>296</th>\n",
       "      <td>0.859717</td>\n",
       "      <td>{'metric': 'manhattan', 'n_neighbors': 97, 'we...</td>\n",
       "    </tr>\n",
       "    <tr>\n",
       "      <th>297</th>\n",
       "      <td>0.861592</td>\n",
       "      <td>{'metric': 'manhattan', 'n_neighbors': 97, 'we...</td>\n",
       "    </tr>\n",
       "    <tr>\n",
       "      <th>298</th>\n",
       "      <td>0.859342</td>\n",
       "      <td>{'metric': 'manhattan', 'n_neighbors': 99, 'we...</td>\n",
       "    </tr>\n",
       "    <tr>\n",
       "      <th>299</th>\n",
       "      <td>0.861216</td>\n",
       "      <td>{'metric': 'manhattan', 'n_neighbors': 99, 'we...</td>\n",
       "    </tr>\n",
       "  </tbody>\n",
       "</table>\n",
       "<p>300 rows × 2 columns</p>\n",
       "</div>"
      ],
      "text/plain": [
       "     mean_test_score                                             params\n",
       "0           0.816196  {'metric': 'minkowski', 'n_neighbors': 1, 'wei...\n",
       "1           0.816196  {'metric': 'minkowski', 'n_neighbors': 1, 'wei...\n",
       "2           0.867590  {'metric': 'minkowski', 'n_neighbors': 3, 'wei...\n",
       "3           0.866088  {'metric': 'minkowski', 'n_neighbors': 3, 'wei...\n",
       "4           0.876596  {'metric': 'minkowski', 'n_neighbors': 5, 'wei...\n",
       "..               ...                                                ...\n",
       "295         0.861967  {'metric': 'manhattan', 'n_neighbors': 95, 'we...\n",
       "296         0.859717  {'metric': 'manhattan', 'n_neighbors': 97, 'we...\n",
       "297         0.861592  {'metric': 'manhattan', 'n_neighbors': 97, 'we...\n",
       "298         0.859342  {'metric': 'manhattan', 'n_neighbors': 99, 'we...\n",
       "299         0.861216  {'metric': 'manhattan', 'n_neighbors': 99, 'we...\n",
       "\n",
       "[300 rows x 2 columns]"
      ]
     },
     "execution_count": 28,
     "metadata": {},
     "output_type": "execute_result"
    }
   ],
   "source": [
    "# The results of cross-validation for various hyperparameter combinations \n",
    "pd.DataFrame(gridCV.cv_results_)[['mean_test_score','params']]"
   ]
  },
  {
   "cell_type": "markdown",
   "metadata": {},
   "source": [
    "Let's create the final optimized model using the best parameters as detected from the exhaustive grid search: "
   ]
  },
  {
   "cell_type": "code",
   "execution_count": 29,
   "metadata": {},
   "outputs": [
    {
     "name": "stdout",
     "output_type": "stream",
     "text": [
      "Training set accuracy:  1.0\n",
      "Test set accuracy:  0.8740629685157422\n"
     ]
    }
   ],
   "source": [
    "# Build the classifier using the optimal parameters detected by grid search\n",
    "\n",
    "knn_opt = KNeighborsClassifier(n_neighbors=bestNeighbors, \n",
    "                               weights = bestWeight, \n",
    "                               metric = bestMetric\n",
    "                              )\n",
    "\n",
    "# Fit to the training set \n",
    "knn_opt.fit(X_train, y_train)\n",
    "\n",
    "# Predict the test data\n",
    "y_pred = knn_opt.predict(X_test)\n",
    "\n",
    "# Report the final overall accuracy\n",
    "print('Training set accuracy: ', metrics.accuracy_score(y_train, y_train))\n",
    "print('Test set accuracy: ',metrics.accuracy_score(y_test, y_pred))"
   ]
  },
  {
   "cell_type": "code",
   "execution_count": 30,
   "metadata": {},
   "outputs": [
    {
     "name": "stdout",
     "output_type": "stream",
     "text": [
      "              precision    recall  f1-score   support\n",
      "\n",
      "           0       0.88      0.99      0.93       570\n",
      "           1       0.84      0.16      0.28        97\n",
      "\n",
      "    accuracy                           0.87       667\n",
      "   macro avg       0.86      0.58      0.60       667\n",
      "weighted avg       0.87      0.87      0.84       667\n",
      "\n"
     ]
    }
   ],
   "source": [
    "# Checking performance our model with classification report.\n",
    "print(metrics.classification_report(y_test, y_pred))"
   ]
  },
  {
   "cell_type": "markdown",
   "metadata": {},
   "source": [
    "### Bonus exercise - RandomSearchCV\n",
    "\n",
    "Reducing computational expense with randomized search on hyperparameters using the `RandomSearchCV` from `sklearn` ([link here](https://scikit-learn.org/stable/modules/generated/sklearn.model_selection.RandomizedSearchCV.html)).\n",
    "\n",
    "In contrast to `GridSearchCV`, not all parameter values are tried out, but rather a fixed number of parameter settings is sampled from the specified distributions. The number of parameter settings that are tried is given by `n_iter`.\n",
    "\n",
    "The parameters of the estimator used to apply these methods are optimized by cross-validated search over parameter settings."
   ]
  },
  {
   "cell_type": "code",
   "execution_count": 31,
   "metadata": {},
   "outputs": [],
   "source": [
    "from sklearn.model_selection import RandomizedSearchCV"
   ]
  },
  {
   "cell_type": "code",
   "execution_count": 32,
   "metadata": {},
   "outputs": [
    {
     "name": "stdout",
     "output_type": "stream",
     "text": [
      "Best parameters: n_neighbors= 7\n",
      "Best parameters: weights = distance\n",
      "Best parameters: metric = minkowski\n"
     ]
    }
   ],
   "source": [
    "# Optimise and build the model with RandomizedSearchCV\n",
    "randomCV = RandomizedSearchCV(KNeighborsClassifier(), knn_param_grid, cv=10)\n",
    "randomCV.fit(X_train, y_train) \n",
    "\n",
    "# Report the optimal parameters\n",
    "bestNeighbors = randomCV.best_params_['n_neighbors']\n",
    "bestWeight    = randomCV.best_params_['weights']\n",
    "bestMetric    = randomCV.best_params_['metric']\n",
    "\n",
    "print(\"Best parameters: n_neighbors=\", bestNeighbors)\n",
    "print(\"Best parameters: weights =\",    bestWeight)\n",
    "print(\"Best parameters: metric =\",     bestMetric)"
   ]
  },
  {
   "cell_type": "code",
   "execution_count": 33,
   "metadata": {},
   "outputs": [
    {
     "name": "stdout",
     "output_type": "stream",
     "text": [
      "Training set accuracy:  1.0\n",
      "Test set accuracy:  0.8710644677661169\n"
     ]
    }
   ],
   "source": [
    "# Build the classifier using the default parameters detected by grid search\n",
    "\n",
    "knn_opt = KNeighborsClassifier(n_neighbors=bestNeighbors, \n",
    "                               weights = bestWeight, \n",
    "                               metric = bestMetric)\n",
    "\n",
    "# Fit to the training set \n",
    "knn_opt.fit(X_train, y_train)\n",
    "\n",
    "# Predict the test data\n",
    "y_pred = knn_opt.predict(X_test)\n",
    "\n",
    "# Report the final overall accuracy\n",
    "print('Training set accuracy: ', metrics.accuracy_score(y_train, y_train))\n",
    "print('Test set accuracy: ',metrics.accuracy_score(y_test, y_pred))"
   ]
  },
  {
   "cell_type": "code",
   "execution_count": 34,
   "metadata": {},
   "outputs": [
    {
     "name": "stdout",
     "output_type": "stream",
     "text": [
      "              precision    recall  f1-score   support\n",
      "\n",
      "           0       0.87      0.99      0.93       570\n",
      "           1       0.82      0.14      0.25        97\n",
      "\n",
      "    accuracy                           0.87       667\n",
      "   macro avg       0.85      0.57      0.59       667\n",
      "weighted avg       0.87      0.87      0.83       667\n",
      "\n"
     ]
    }
   ],
   "source": [
    "# Checking performance our model with classification report.\n",
    "print(metrics.classification_report(y_test, y_pred))"
   ]
  }
 ],
 "metadata": {
  "kernelspec": {
   "display_name": "Python 3 (ipykernel)",
   "language": "python",
   "name": "python3"
  },
  "language_info": {
   "codemirror_mode": {
    "name": "ipython",
    "version": 3
   },
   "file_extension": ".py",
   "mimetype": "text/x-python",
   "name": "python",
   "nbconvert_exporter": "python",
   "pygments_lexer": "ipython3",
   "version": "3.9.12"
  }
 },
 "nbformat": 4,
 "nbformat_minor": 2
}
